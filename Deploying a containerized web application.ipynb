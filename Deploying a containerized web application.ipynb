{
 "cells": [
  {
   "cell_type": "markdown",
   "metadata": {},
   "source": [
    "## Environment\n",
    "<p>\n",
    "<a href=\"https://skaffold.dev/docs/install/\">Install Docker</a>\n",
    "</p>\n",
    "<p>\n",
    "<a href=\"https://kubernetes.io/docs/tasks/tools/install-kubectl/\">Install Google Cloud SDK</a>\n",
    "    </p><p>\n",
    "<a href=\"https://minikube.sigs.k8s.io/docs/start/\">Install kubectl (For MacOS, gcloud components install kubectl)</a>\n",
    "</p>"
   ]
  },
  {
   "cell_type": "markdown",
   "metadata": {},
   "source": [
    "#### Preparation"
   ]
  },
  {
   "cell_type": "code",
   "execution_count": null,
   "metadata": {},
   "outputs": [],
   "source": [
    "%%bash\n",
    "##add gcloud as a docker auth provider\n",
    "gcloud auth configure-docker\n",
    "## clone project to local\n",
    "git clone https://github.com/GoogleCloudPlatform/kubernetes-engine-samples"
   ]
  },
  {
   "cell_type": "code",
   "execution_count": null,
   "metadata": {},
   "outputs": [],
   "source": [
    "%%bash\n",
    "gcloud projects list\n",
    "## current project\n",
    "# RED='\\033[0;31m'\n",
    "tput setaf 1;echo 'Current user:'\n",
    "gcloud auth list\n",
    "\n",
    "echo 'Current project is:'\n",
    "gcloud info --format='value(config.project)'\n",
    "echo 'Buckets'\n",
    "gsutil list\n"
   ]
  },
  {
   "cell_type": "code",
   "execution_count": null,
   "metadata": {},
   "outputs": [],
   "source": [
    "PROJECT = \"test-deploy-jerry\""
   ]
  },
  {
   "cell_type": "markdown",
   "metadata": {},
   "source": [
    "### Build docker image"
   ]
  },
  {
   "cell_type": "code",
   "execution_count": null,
   "metadata": {},
   "outputs": [],
   "source": [
    "%%bash -s \"$PROJECT\"\n",
    "# export PROJECT_ID= \"test-deploy-jerry\"\n",
    "cd /Users/jhung/Documents/Dev/kubernetes-engine-samples/hello-app\n",
    "pwd\n",
    "ls -ltr\n",
    "docker build -t gcr.io/$1/hello-app:v1 .\n",
    "# docker build -t gcr.io/test-deploy-jerry/hello-app:v1"
   ]
  },
  {
   "cell_type": "markdown",
   "metadata": {},
   "source": [
    "### Upload image to GCP container registration"
   ]
  },
  {
   "cell_type": "code",
   "execution_count": 25,
   "metadata": {},
   "outputs": [
    {
     "name": "stdout",
     "output_type": "stream",
     "text": [
      "The push refers to repository [gcr.io/test-deploy-jerry/hello-app]\n",
      "66948934b230: Preparing\n",
      "6b27de954cca: Preparing\n",
      "6b27de954cca: Layer already exists\n",
      "66948934b230: Layer already exists\n",
      "v1: digest: sha256:67f2274c2211a69264efbbd79d60b302f17258bf18041f727e4efd0e08ae92a7 size: 739\n"
     ]
    },
    {
     "name": "stderr",
     "output_type": "stream",
     "text": [
      "gcloud credential helpers already registered correctly.\n"
     ]
    }
   ],
   "source": [
    "%%bash\n",
    "gcloud auth configure-docker\n",
    "docker push gcr.io/test-deploy-jerry/hello-app:v1"
   ]
  },
  {
   "cell_type": "markdown",
   "metadata": {},
   "source": [
    "### Run container locally"
   ]
  },
  {
   "cell_type": "code",
   "execution_count": 27,
   "metadata": {},
   "outputs": [],
   "source": []
  },
  {
   "cell_type": "code",
   "execution_count": null,
   "metadata": {},
   "outputs": [],
   "source": [
    "%%bash -s \"$PROJECT\"\n",
    "docker run --rm -p 8080:8080 gcr.io/$1/hello-app:v1\n"
   ]
  },
  {
   "cell_type": "code",
   "execution_count": null,
   "metadata": {},
   "outputs": [],
   "source": []
  }
 ],
 "metadata": {
  "kernelspec": {
   "display_name": "Python 3",
   "language": "python",
   "name": "python3"
  },
  "language_info": {
   "codemirror_mode": {
    "name": "ipython",
    "version": 3
   },
   "file_extension": ".py",
   "mimetype": "text/x-python",
   "name": "python",
   "nbconvert_exporter": "python",
   "pygments_lexer": "ipython3",
   "version": "3.8.0"
  }
 },
 "nbformat": 4,
 "nbformat_minor": 2
}
