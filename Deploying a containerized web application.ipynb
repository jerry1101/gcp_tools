{
 "cells": [
  {
   "cell_type": "markdown",
   "metadata": {},
   "source": [
    "## Environment\n",
    "<p>\n",
    "<a href=\"https://skaffold.dev/docs/install/\">Install Docker</a>\n",
    "</p>\n",
    "<p>\n",
    "<a href=\"https://kubernetes.io/docs/tasks/tools/install-kubectl/\">Install Google Cloud SDK</a>\n",
    "    </p><p>\n",
    "<a href=\"https://minikube.sigs.k8s.io/docs/start/\">Install kubectl (For MacOS, gcloud components install kubectl)</a>\n",
    "</p>"
   ]
  },
  {
   "cell_type": "markdown",
   "metadata": {},
   "source": [
    "#### Preparation"
   ]
  },
  {
   "cell_type": "code",
   "execution_count": null,
   "metadata": {},
   "outputs": [],
   "source": [
    "%%bash\n",
    "##add gcloud as a docker auth provider\n",
    "gcloud auth configure-docker\n",
    "## clone project to local\n",
    "git clone https://github.com/GoogleCloudPlatform/kubernetes-engine-samples"
   ]
  },
  {
   "cell_type": "code",
   "execution_count": 7,
   "metadata": {},
   "outputs": [
    {
     "name": "stdout",
     "output_type": "stream",
     "text": [
      "PROJECT_ID             NAME               PROJECT_NUMBER\n",
      "graphite-bebop-257815  My First Project   393155824505\n",
      "k8s-skaffold-264918    k8s-skaffold       289966881165\n",
      "test-deploy-jerry      test-deploy-jerry  954610689284\n",
      "\\e[1;31mHello World!\\e[0m\n",
      "Current user     Credentialed Accounts\n",
      "ACTIVE  ACCOUNT\n",
      "*       jerry.twm.seo@gmail.com\n",
      "Current project is:\n",
      "test-deploy-jerry\n",
      "Buckets\n",
      "gs://artifacts.test-deploy-jerry.appspot.com/\n",
      "gs://test-deploy-jerry_cloudbuild/\n"
     ]
    },
    {
     "name": "stderr",
     "output_type": "stream",
     "text": [
      "\n",
      "To set the active account, run:\n",
      "    $ gcloud config set account `ACCOUNT`\n",
      "\n"
     ]
    }
   ],
   "source": [
    "%%bash\n",
    "gcloud projects list\n",
    "## current project\n",
    "# RED='\\033[0;31m'\n",
    "\n",
    "printf  \"Current user\"\n",
    "gcloud auth list\n",
    "\n",
    "echo 'Current project is:'\n",
    "gcloud info --format='value(config.project)'\n",
    "echo 'Buckets'\n",
    "gsutil list\n"
   ]
  },
  {
   "cell_type": "code",
   "execution_count": 8,
   "metadata": {},
   "outputs": [],
   "source": [
    "PROJECT = \"test-deploy-jerry\""
   ]
  },
  {
   "cell_type": "markdown",
   "metadata": {},
   "source": [
    "### Build docker image"
   ]
  },
  {
   "cell_type": "code",
   "execution_count": 9,
   "metadata": {},
   "outputs": [
    {
     "name": "stdout",
     "output_type": "stream",
     "text": [
      "/Users/jhung/Documents/Dev/kubernetes-engine-samples/hello-app\n",
      "total 24\n",
      "-rw-r--r--  1 jhung  185821076   160 Jan 12 21:36 Dockerfile\n",
      "-rw-r--r--  1 jhung  185821076  1226 Jan 12 21:36 README.md\n",
      "-rw-r--r--  1 jhung  185821076  1430 Jan 12 21:36 main.go\n",
      "drwxr-xr-x  5 jhung  185821076   160 Jan 12 21:36 manifests\n",
      "Sending build context to Docker daemon  9.728kB\r",
      "\r\n",
      "Step 1/7 : FROM golang:1.8-alpine\n",
      " ---> 4cb86d3661bf\n",
      "Step 2/7 : ADD . /go/src/hello-app\n",
      " ---> Using cache\n",
      " ---> d0293441d087\n",
      "Step 3/7 : RUN go install hello-app\n",
      " ---> Using cache\n",
      " ---> 90372ae9b724\n",
      "Step 4/7 : FROM alpine:latest\n",
      " ---> cc0abc535e36\n",
      "Step 5/7 : COPY --from=0 /go/bin/hello-app .\n",
      " ---> Using cache\n",
      " ---> 9cc53cdc73a8\n",
      "Step 6/7 : ENV PORT 8080\n",
      " ---> Using cache\n",
      " ---> f12cdceb6c38\n",
      "Step 7/7 : CMD [\"./hello-app\"]\n",
      " ---> Using cache\n",
      " ---> 24ddcf551680\n",
      "Successfully built 24ddcf551680\n",
      "Successfully tagged gcr.io/test-deploy-jerry/hello-app:v1\n"
     ]
    }
   ],
   "source": [
    "%%bash -s \"$PROJECT\"\n",
    "# export PROJECT_ID= \"test-deploy-jerry\"\n",
    "cd /Users/jhung/Documents/Dev/kubernetes-engine-samples/hello-app\n",
    "pwd\n",
    "ls -ltr\n",
    "docker build -t gcr.io/$1/hello-app:v1 .\n",
    "# docker build -t gcr.io/test-deploy-jerry/hello-app:v1"
   ]
  },
  {
   "cell_type": "markdown",
   "metadata": {},
   "source": [
    "### Upload image to GCP container registration"
   ]
  },
  {
   "cell_type": "code",
   "execution_count": 10,
   "metadata": {},
   "outputs": [
    {
     "name": "stdout",
     "output_type": "stream",
     "text": [
      "The push refers to repository [gcr.io/test-deploy-jerry/hello-app]\n",
      "66948934b230: Preparing\n",
      "6b27de954cca: Preparing\n",
      "66948934b230: Layer already exists\n",
      "6b27de954cca: Layer already exists\n",
      "v1: digest: sha256:67f2274c2211a69264efbbd79d60b302f17258bf18041f727e4efd0e08ae92a7 size: 739\n"
     ]
    },
    {
     "name": "stderr",
     "output_type": "stream",
     "text": [
      "gcloud credential helpers already registered correctly.\n"
     ]
    }
   ],
   "source": [
    "%%bash -s \"$PROJECT\"\n",
    "gcloud auth configure-docker\n",
    "docker push gcr.io/$1/hello-app:v1"
   ]
  },
  {
   "cell_type": "markdown",
   "metadata": {},
   "source": [
    "### Run container locally"
   ]
  },
  {
   "cell_type": "code",
   "execution_count": null,
   "metadata": {},
   "outputs": [],
   "source": [
    "%%bash -s \"$PROJECT\"\n",
    "docker run --rm -p 8080:8080 gcr.io/$1/hello-app:v1\n"
   ]
  }
 ],
 "metadata": {
  "kernelspec": {
   "display_name": "Python 3",
   "language": "python",
   "name": "python3"
  },
  "language_info": {
   "codemirror_mode": {
    "name": "ipython",
    "version": 3
   },
   "file_extension": ".py",
   "mimetype": "text/x-python",
   "name": "python",
   "nbconvert_exporter": "python",
   "pygments_lexer": "ipython3",
   "version": "3.8.0"
  }
 },
 "nbformat": 4,
 "nbformat_minor": 2
}
