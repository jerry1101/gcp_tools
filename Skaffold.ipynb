{
 "cells": [
  {
   "cell_type": "markdown",
   "metadata": {},
   "source": [
    "## Environment\n",
    "<p>\n",
    "<a href=\"https://skaffold.dev/docs/install/\">Install Skaffold(For MacOS, brew install skaffold)</a>\n",
    "</p>\n",
    "<p>\n",
    "<a href=\"https://kubernetes.io/docs/tasks/tools/install-kubectl/\">Install Kubectl</a>\n",
    "    </p><p>\n",
    "<a href=\"https://minikube.sigs.k8s.io/docs/start/\">Install Minikube (For MacOS, brew install minikube)</a>\n",
    "</p>"
   ]
  },
  {
   "cell_type": "markdown",
   "metadata": {},
   "source": [
    "#### before Skaffold; Run Docker and Minikube"
   ]
  },
  {
   "cell_type": "code",
   "execution_count": 5,
   "metadata": {},
   "outputs": [
    {
     "name": "stdout",
     "output_type": "stream",
     "text": [
      "host: Running\n",
      "kubelet: Running\n",
      "apiserver: Running\n",
      "kubeconfig: Configured\n"
     ]
    }
   ],
   "source": [
    "%%bash\n",
    "# minikube start\n",
    "# minikube service list\n",
    "minikube status"
   ]
  },
  {
   "cell_type": "code",
   "execution_count": null,
   "metadata": {},
   "outputs": [],
   "source": [
    "%%bash\n",
    "##add gcloud as a docker auth provider\n",
    "gcloud auth configure-docker"
   ]
  },
  {
   "cell_type": "code",
   "execution_count": 6,
   "metadata": {},
   "outputs": [
    {
     "name": "stdout",
     "output_type": "stream",
     "text": [
      "PROJECT_ID             NAME               PROJECT_NUMBER\n",
      "graphite-bebop-257815  My First Project   393155824505\n",
      "k8s-skaffold-264918    k8s-skaffold       289966881165\n",
      "test-deploy-jerry      test-deploy-jerry  954610689284\n",
      "\u001b[31mCurrent user:\n",
      "     Credentialed Accounts\n",
      "ACTIVE  ACCOUNT\n",
      "*       jerry.twm.seo@gmail.com\n",
      "Current project is:\n",
      "test-deploy-jerry\n",
      "Buckets\n",
      "gs://artifacts.test-deploy-jerry.appspot.com/\n",
      "gs://test-deploy-jerry_cloudbuild/\n"
     ]
    },
    {
     "name": "stderr",
     "output_type": "stream",
     "text": [
      "\n",
      "To set the active account, run:\n",
      "    $ gcloud config set account `ACCOUNT`\n",
      "\n"
     ]
    }
   ],
   "source": [
    "%%bash\n",
    "gcloud projects list\n",
    "## current project\n",
    "# RED='\\033[0;31m'\n",
    "tput setaf 1;echo 'Current user:'\n",
    "gcloud auth list\n",
    "\n",
    "echo 'Current project is:'\n",
    "gcloud info --format='value(config.project)'\n",
    "echo 'Buckets'\n",
    "gsutil list"
   ]
  },
  {
   "cell_type": "code",
   "execution_count": 16,
   "metadata": {},
   "outputs": [
    {
     "name": "stderr",
     "output_type": "stream",
     "text": [
      "Updated property [core/project].\n"
     ]
    }
   ],
   "source": [
    "%%bash\n",
    "##change project\n",
    "gcloud config set project test-deploy-jerry\n"
   ]
  },
  {
   "cell_type": "code",
   "execution_count": 20,
   "metadata": {},
   "outputs": [],
   "source": [
    "%%bash\n",
    "gsutil iam ch user:jerry.twm.seo@gmail.com:admin gs://test-deploy-jerry_cloudbuild/"
   ]
  },
  {
   "cell_type": "code",
   "execution_count": null,
   "metadata": {},
   "outputs": [],
   "source": []
  }
 ],
 "metadata": {
  "kernelspec": {
   "display_name": "Python 3",
   "language": "python",
   "name": "python3"
  },
  "language_info": {
   "codemirror_mode": {
    "name": "ipython",
    "version": 3
   },
   "file_extension": ".py",
   "mimetype": "text/x-python",
   "name": "python",
   "nbconvert_exporter": "python",
   "pygments_lexer": "ipython3",
   "version": "3.8.0"
  }
 },
 "nbformat": 4,
 "nbformat_minor": 2
}
