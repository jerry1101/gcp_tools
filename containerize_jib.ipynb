{
 "cells": [
  {
   "cell_type": "markdown",
   "metadata": {},
   "source": [
    "## Environment\n",
    "<p>\n",
    "<a href=\"https://skaffold.dev/docs/install/\">Install Skaffold(For MacOS, brew install skaffold)</a>\n",
    "</p>\n",
    "<p>\n",
    "<a href=\"https://kubernetes.io/docs/tasks/tools/install-kubectl/\">Install Kubectl</a>\n",
    "    </p><p>\n",
    "<a href=\"https://minikube.sigs.k8s.io/docs/start/\">Install Minikube (For MacOS, brew install minikube)</a>\n",
    "</p>"
   ]
  },
  {
   "cell_type": "markdown",
   "metadata": {},
   "source": [
    "#### https://ryaneschinger.com/blog/using-google-container-registry-gcr-with-minikube/\n",
    "#### By default, minikube does not know how to authenticate with GCR. In this post, I will cover how to configure authentication to GCR in the minikube environment (or, really, any other non-GCE kubernetes environment)."
   ]
  },
  {
   "cell_type": "markdown",
   "metadata": {},
   "source": [
    "##### Kubernetes namespaces help different projects, teams, or customers to share a Kubernetes cluster.\n",
    "##### It does this by providing the following:\n",
    "\n",
    "##### 1. A scope for Names.\n",
    "##### 2.A mechanism to attach authorization and policy to a subsection of the cluster."
   ]
  },
  {
   "cell_type": "markdown",
   "metadata": {},
   "source": [
    "### Add Jib plugin in POM.xml"
   ]
  },
  {
   "cell_type": "code",
   "execution_count": 4,
   "metadata": {},
   "outputs": [
    {
     "ename": "IndentationError",
     "evalue": "unindent does not match any outer indentation level (<tokenize>, line 12)",
     "output_type": "error",
     "traceback": [
      "\u001b[0;36m  File \u001b[0;32m\"<tokenize>\"\u001b[0;36m, line \u001b[0;32m12\u001b[0m\n\u001b[0;31m    <to>\u001b[0m\n\u001b[0m    ^\u001b[0m\n\u001b[0;31mIndentationError\u001b[0m\u001b[0;31m:\u001b[0m unindent does not match any outer indentation level\n"
     ]
    }
   ],
   "source": [
    "<build>\n",
    "\t\t<plugins>\n",
    "\t\t\t<plugin>\n",
    "\t\t\t\t<groupId>org.springframework.boot</groupId>\n",
    "\t\t\t\t<artifactId>spring-boot-maven-plugin</artifactId>\n",
    "\t\t\t</plugin>\n",
    "\t\t\t <plugin>\n",
    "                <groupId>com.google.cloud.tools</groupId>\n",
    "                <artifactId>jib-maven-plugin</artifactId>\n",
    "                <version>1.8.0</version>\n",
    "\t\t\t\t<configuration>\n",
    "            <to>\n",
    "               <image>springbootjib</image>\n",
    "            </to>\n",
    "         </configuration>\n",
    "            </plugin>\n",
    "\t\t</plugins>\n",
    "\t</build>"
   ]
  },
  {
   "cell_type": "markdown",
   "metadata": {},
   "source": [
    "#### Containerization"
   ]
  },
  {
   "cell_type": "code",
   "execution_count": null,
   "metadata": {},
   "outputs": [],
   "source": [
    "%%bash\n",
    "##push to GCR\n",
    "# ./mvnw compile jib:build -Dimage=gcr.io/test-deploy-jerry/spring-boot-jib-test-1\n",
    "mvn compile jib:dockerBuild"
   ]
  },
  {
   "cell_type": "markdown",
   "metadata": {},
   "source": [
    "#### Run container"
   ]
  },
  {
   "cell_type": "code",
   "execution_count": 5,
   "metadata": {},
   "outputs": [
    {
     "name": "stdout",
     "output_type": "stream",
     "text": [
      "host: Running\n",
      "kubelet: Running\n",
      "apiserver: Running\n",
      "kubeconfig: Configured\n"
     ]
    }
   ],
   "source": [
    "%%bash\n",
    "docker run -d -p 8080:8080 springbootjib"
   ]
  }
 ],
 "metadata": {
  "kernelspec": {
   "display_name": "Python 3",
   "language": "python",
   "name": "python3"
  },
  "language_info": {
   "codemirror_mode": {
    "name": "ipython",
    "version": 3
   },
   "file_extension": ".py",
   "mimetype": "text/x-python",
   "name": "python",
   "nbconvert_exporter": "python",
   "pygments_lexer": "ipython3",
   "version": "3.8.0"
  }
 },
 "nbformat": 4,
 "nbformat_minor": 2
}
